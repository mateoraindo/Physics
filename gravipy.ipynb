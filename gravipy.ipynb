{
 "cells": [
  {
   "cell_type": "markdown",
   "metadata": {},
   "source": [
    "# Relatividade xeral con gravipy"
   ]
  },
  {
   "cell_type": "markdown",
   "metadata": {},
   "source": [
    "Primeiro imos definir os paquetes necesarios:"
   ]
  },
  {
   "cell_type": "code",
   "execution_count": 3,
   "metadata": {},
   "outputs": [],
   "source": [
    "from gravipy import *   #Importamos a librería Gravipy, para calculos de relatividade xeral\n",
    "from IPython.display import display, Math, Latex ",
    "init_printing(use_unicode = True)   #Para que os resultados aparezcan bonicos"
   ]
  },
  {
   "cell_type": "markdown",
   "metadata": {},
   "source": [
    "Podemos comezar inicializando as nosas variables como símbolos, creando o cuadrivector $x$, e definindo a matriz da métrica $M$, a cal contén os coeficientes da nosa métrica $g$, a cal definimos na última línea."
   ]
  },
  {
   "cell_type": "code",
   "execution_count": 164,
   "metadata": {},
   "outputs": [],
   "source": [
    "t, r, theta, phi, M = symbols('t, r, \\\\theta, \\phi, M') # define some symbolic variables\n",
    "B = Function('B')(r)  #  Estas dúas liñas de código definen as funcións B(r) e A(r) para poder traballar cunha\n",
    "A = Function('A')(r)  # métrica xenérica diagonal. Non son necesarias para a de Minkowski ou Schwarzschild.\n",
    "x = Coordinates('\\chi', [t, r, theta, phi]) # Crea o cuadrivector das coordenadas\n",
    "\n",
    "# A continuación hai varias métricas (matrices de coeficientes) definidas, \n",
    "# para probar a obter os resultados obtidos nas clases de problemas\n",
    "\n",
    "#Metric = diag(-1, 1, 1, 1)  #Métrica de Minkowski (espazo plano)\n",
    "Metric = Matrix([[-B, 0, 0, 0], [0, A, 0, 0], [0, 0, r**2, 0], [0, 0, 0, r**2*sin(theta)**2]]) #Métrica xenérica diagonal\n",
    "#Metric = diag(-(1-2*M/r), 1/(1-2*M/r), r**2, r**2*sin(theta)**2) # Métrica de Schwarzschild\n",
    "\n",
    "\n",
    "g = MetricTensor('g', x, Metric) # Crea o tensor da métrica"
   ]
  },
  {
   "cell_type": "code",
   "execution_count": 165,
   "metadata": {},
   "outputs": [
    {
     "name": "stdout",
     "output_type": "stream",
     "text": [
      "A matriz dos coeficientes da métrica é:\n"
     ]
    },
    {
     "data": {
      "image/png": "[encoded data removed]",
      "text/latex": [
       "$\\displaystyle \\left[\\begin{matrix}- B{\\left(r \\right)} & 0 & 0 & 0\\\\0 & A{\\left(r \\right)} & 0 & 0\\\\0 & 0 & r^{2} & 0\\\\0 & 0 & 0 & r^{2} \\sin^{2}{\\left(\\theta \\right)}\\end{matrix}\\right]$"
      ],
      "text/plain": [
       "⎡-B(r)   0    0          0       ⎤\n",
       "⎢                                ⎥\n",
       "⎢  0    A(r)  0          0       ⎥\n",
       "⎢                                ⎥\n",
       "⎢              2                 ⎥\n",
       "⎢  0     0    r          0       ⎥\n",
       "⎢                                ⎥\n",
       "⎢                  2    2        ⎥\n",
       "⎣  0     0    0   r ⋅sin (\\theta)⎦"
      ]
     },
     "metadata": {},
     "output_type": "display_data"
    }
   ],
   "source": [
    "print('A matriz dos coeficientes da métrica é:')\n",
    "display(g(All, All))  #Mostramos aquí a matriz de coeficientes da métrica\n",
    "\n"
   ]
  },
  {
   "cell_type": "code",
   "execution_count": 166,
   "metadata": {
    "scrolled": true
   },
   "outputs": [
    {
     "name": "stdout",
     "output_type": "stream",
     "text": [
      "Os coeficientes da métrica son:\n"
     ]
    },
    {
     "data": {
      "image/png": "[encoded data removed]",
      "text/latex": [
       "$\\displaystyle - B{\\left(r \\right)}$"
      ],
      "text/plain": [
       "-B(r)"
      ]
     },
     "metadata": {},
     "output_type": "display_data"
    },
    {
     "data": {
      "image/png": "[encoded data removed]",
      "text/latex": [
       "$\\displaystyle A{\\left(r \\right)}$"
      ],
      "text/plain": [
       "A(r)"
      ]
     },
     "metadata": {},
     "output_type": "display_data"
    },
    {
     "data": {
      "image/png": "[encoded data removed]",
      "text/latex": [
       "$\\displaystyle r^{2}$"
      ],
      "text/plain": [
       " 2\n",
       "r "
      ]
     },
     "metadata": {},
     "output_type": "display_data"
    },
    {
     "data": {
      "image/png": "[encoded data removed]",
      "text/latex": [
       "$\\displaystyle r^{2} \\sin^{2}{\\left(\\theta \\right)}$"
      ],
      "text/plain": [
       " 2    2        \n",
       "r ⋅sin (\\theta)"
      ]
     },
     "metadata": {},
     "output_type": "display_data"
    }
   ],
   "source": [
    "print('Os coeficientes da métrica son:')\n",
    "\n",
    "display(g(1, 1))\n",
    "display(g(2, 2))\n",
    "display(g(3, 3))\n",
    "display(g(4, 4))\n",
    "\n"
   ]
  },
  {
   "cell_type": "markdown",
   "metadata": {},
   "source": [
    "## Cálculo de cousas de Relatividade Xeral "
   ]
  },
  {
   "cell_type": "markdown",
   "metadata": {},
   "source": [
    "Podemos agora empezar a calcular cousas que a man $suputamadre$ las va a volver a hacer xD"
   ]
  },
  {
   "cell_type": "markdown",
   "metadata": {},
   "source": [
    "### Conexión afín "
   ]
  },
  {
   "cell_type": "code",
   "execution_count": 176,
   "metadata": {
    "scrolled": false
   },
   "outputs": [
    {
     "name": "stdout",
     "output_type": "stream",
     "text": [
      "Matriz para a conexión co primeiro coeficiente t\n"
     ]
    },
    {
     "data": {
      "image/png": "[encoded data removed]",
      "text/latex": [
       "$\\displaystyle \\left[\\begin{matrix}0 & \\frac{\\frac{d}{d r} B{\\left(r \\right)}}{2 B{\\left(r \\right)}} & 0 & 0\\\\\\frac{\\frac{d}{d r} B{\\left(r \\right)}}{2 B{\\left(r \\right)}} & 0 & 0 & 0\\\\0 & 0 & 0 & 0\\\\0 & 0 & 0 & 0\\end{matrix}\\right]$"
      ],
      "text/plain": [
       "⎡          d             ⎤\n",
       "⎢          ──(B(r))      ⎥\n",
       "⎢          dr            ⎥\n",
       "⎢   0      ────────  0  0⎥\n",
       "⎢           2⋅B(r)       ⎥\n",
       "⎢                        ⎥\n",
       "⎢d                       ⎥\n",
       "⎢──(B(r))                ⎥\n",
       "⎢dr                      ⎥\n",
       "⎢────────     0      0  0⎥\n",
       "⎢ 2⋅B(r)                 ⎥\n",
       "⎢                        ⎥\n",
       "⎢   0         0      0  0⎥\n",
       "⎢                        ⎥\n",
       "⎣   0         0      0  0⎦"
      ]
     },
     "metadata": {},
     "output_type": "display_data"
    },
    {
     "name": "stdout",
     "output_type": "stream",
     "text": [
      "Matriz para a conexión co primeiro coeficiente r\n"
     ]
    },
    {
     "data": {
      "image/png": "[encoded data removed]",
      "text/latex": [
       "$\\displaystyle \\left[\\begin{matrix}\\frac{\\frac{d}{d r} B{\\left(r \\right)}}{2 A{\\left(r \\right)}} & 0 & 0 & 0\\\\0 & \\frac{\\frac{d}{d r} A{\\left(r \\right)}}{2 A{\\left(r \\right)}} & 0 & 0\\\\0 & 0 & - \\frac{r}{A{\\left(r \\right)}} & 0\\\\0 & 0 & 0 & - \\frac{r \\sin^{2}{\\left(\\theta \\right)}}{A{\\left(r \\right)}}\\end{matrix}\\right]$"
      ],
      "text/plain": [
       "⎡d                                         ⎤\n",
       "⎢──(B(r))                                  ⎥\n",
       "⎢dr                                        ⎥\n",
       "⎢────────     0       0           0        ⎥\n",
       "⎢ 2⋅A(r)                                   ⎥\n",
       "⎢                                          ⎥\n",
       "⎢          d                               ⎥\n",
       "⎢          ──(A(r))                        ⎥\n",
       "⎢          dr                              ⎥\n",
       "⎢   0      ────────   0           0        ⎥\n",
       "⎢           2⋅A(r)                         ⎥\n",
       "⎢                                          ⎥\n",
       "⎢                    -r                    ⎥\n",
       "⎢   0         0      ────         0        ⎥\n",
       "⎢                    A(r)                  ⎥\n",
       "⎢                                          ⎥\n",
       "⎢                                2         ⎥\n",
       "⎢                          -r⋅sin (\\theta) ⎥\n",
       "⎢   0         0       0    ────────────────⎥\n",
       "⎣                                A(r)      ⎦"
      ]
     },
     "metadata": {},
     "output_type": "display_data"
    },
    {
     "name": "stdout",
     "output_type": "stream",
     "text": [
      "Matriz para a conexión co primeiro coeficiente theta\n"
     ]
    },
    {
     "data": {
      "image/png": "[encoded data removed]",
      "text/latex": [
       "$\\displaystyle \\left[\\begin{matrix}0 & 0 & 0 & 0\\\\0 & 0 & \\frac{1}{r} & 0\\\\0 & \\frac{1}{r} & 0 & 0\\\\0 & 0 & 0 & - \\frac{\\sin{\\left(2 \\theta \\right)}}{2}\\end{matrix}\\right]$"
      ],
      "text/plain": [
       "⎡0  0  0         0       ⎤\n",
       "⎢                        ⎥\n",
       "⎢      1                 ⎥\n",
       "⎢0  0  ─         0       ⎥\n",
       "⎢      r                 ⎥\n",
       "⎢                        ⎥\n",
       "⎢   1                    ⎥\n",
       "⎢0  ─  0         0       ⎥\n",
       "⎢   r                    ⎥\n",
       "⎢                        ⎥\n",
       "⎢         -sin(2⋅\\theta) ⎥\n",
       "⎢0  0  0  ───────────────⎥\n",
       "⎣                2       ⎦"
      ]
     },
     "metadata": {},
     "output_type": "display_data"
    },
    {
     "name": "stdout",
     "output_type": "stream",
     "text": [
      "Matriz para a conexión co primeiro coeficiente phi\n"
     ]
    },
    {
     "data": {
      "image/png": "[encoded data removed]",
      "text/latex": [
       "$\\displaystyle \\left[\\begin{matrix}0 & 0 & 0 & 0\\\\0 & 0 & 0 & \\frac{1}{r}\\\\0 & 0 & 0 & \\frac{\\sin{\\left(2 \\theta \\right)}}{2 \\sin^{2}{\\left(\\theta \\right)}}\\\\0 & \\frac{1}{r} & \\frac{\\sin{\\left(2 \\theta \\right)}}{2 \\sin^{2}{\\left(\\theta \\right)}} & 0\\end{matrix}\\right]$"
      ],
      "text/plain": [
       "⎡0  0        0               0       ⎤\n",
       "⎢                                    ⎥\n",
       "⎢                            1       ⎥\n",
       "⎢0  0        0               ─       ⎥\n",
       "⎢                            r       ⎥\n",
       "⎢                                    ⎥\n",
       "⎢                      sin(2⋅\\theta) ⎥\n",
       "⎢0  0        0         ──────────────⎥\n",
       "⎢                           2        ⎥\n",
       "⎢                      2⋅sin (\\theta)⎥\n",
       "⎢                                    ⎥\n",
       "⎢   1  sin(2⋅\\theta)                 ⎥\n",
       "⎢0  ─  ──────────────        0       ⎥\n",
       "⎢   r       2                        ⎥\n",
       "⎣      2⋅sin (\\theta)                ⎦"
      ]
     },
     "metadata": {},
     "output_type": "display_data"
    },
    {
     "name": "stdout",
     "output_type": "stream",
     "text": [
      "Aquí se mostran os coeficientes non nulos\n"
     ]
    },
    {
     "data": {
      "text/latex": [
       "$$\\Gamma^{t}_{tr} = \\Gamma^{t}_{rt} = \\frac{\\frac{d}{d r} B{\\left(r \\right)}}{2 B{\\left(r \\right)}}$$"
      ],
      "text/plain": [
       "<IPython.core.display.Math object>"
      ]
     },
     "metadata": {},
     "output_type": "display_data"
    },
    {
     "data": {
      "text/latex": [
       "$$\\Gamma^{r}_{tt} = \\frac{\\frac{d}{d r} B{\\left(r \\right)}}{2 A{\\left(r \\right)}}$$"
      ],
      "text/plain": [
       "<IPython.core.display.Math object>"
      ]
     },
     "metadata": {},
     "output_type": "display_data"
    },
    {
     "data": {
      "text/latex": [
       "$$\\Gamma^{r}_{rr} = \\frac{\\frac{d}{d r} A{\\left(r \\right)}}{2 A{\\left(r \\right)}}$$"
      ],
      "text/plain": [
       "<IPython.core.display.Math object>"
      ]
     },
     "metadata": {},
     "output_type": "display_data"
    },
    {
     "data": {
      "text/latex": [
       "$$\\Gamma^{r}_{\\theta\\theta} = - \\frac{r}{A{\\left(r \\right)}}$$"
      ],
      "text/plain": [
       "<IPython.core.display.Math object>"
      ]
     },
     "metadata": {},
     "output_type": "display_data"
    },
    {
     "data": {
      "text/latex": [
       "$$\\Gamma^{r}_{\\phi\\phi} = - \\frac{r \\sin^{2}{\\left(\\theta \\right)}}{A{\\left(r \\right)}}$$"
      ],
      "text/plain": [
       "<IPython.core.display.Math object>"
      ]
     },
     "metadata": {},
     "output_type": "display_data"
    },
    {
     "data": {
      "text/latex": [
       "$$\\Gamma^{\\theta}_{r\\theta} = \\Gamma^{\\theta}_{\\thetar} = \\frac{1}{r}$$"
      ],
      "text/plain": [
       "<IPython.core.display.Math object>"
      ]
     },
     "metadata": {},
     "output_type": "display_data"
    },
    {
     "data": {
      "text/latex": [
       "$$\\Gamma^{\\theta}_{\\phi\\phi} = - \\frac{\\sin{\\left(2 \\theta \\right)}}{2}$$"
      ],
      "text/plain": [
       "<IPython.core.display.Math object>"
      ]
     },
     "metadata": {},
     "output_type": "display_data"
    },
    {
     "data": {
      "text/latex": [
       "$$\\Gamma^{\\phi}_{r\\phi} = \\Gamma^{\\phi}_{\\phir} = \\frac{1}{r}$$"
      ],
      "text/plain": [
       "<IPython.core.display.Math object>"
      ]
     },
     "metadata": {},
     "output_type": "display_data"
    },
    {
     "data": {
      "text/latex": [
       "$$\\Gamma^{\\phi}_{\\theta\\phi} = \\Gamma^{\\phi}_{\\phi\\theta} = \\frac{\\sin{\\left(2 \\theta \\right)}}{2 \\sin^{2}{\\left(\\theta \\right)}}$$"
      ],
      "text/plain": [
       "<IPython.core.display.Math object>"
      ]
     },
     "metadata": {},
     "output_type": "display_data"
    }
   ],
   "source": [
    "Ga = Christoffel('Ga', g)   #Calculamos a conexión afín\n",
    "\n",
    "print('Matriz para a conexión co primeiro coeficiente t')\n",
    "\n",
    "display(Ga(-1, All, All))  #Mostramos a Matriz de \\Gamma^t_{i, j},        con i, j = t, r, theta, phi\n",
    "\n",
    "print('Matriz para a conexión co primeiro coeficiente r')\n",
    "\n",
    "display(Ga(-2, All, All))  #Mostramos a Matriz de \\Gamma^r_{i, \\nu},      con i, j = t, r, theta, phi\n",
    "\n",
    "print('Matriz para a conexión co primeiro coeficiente theta')\n",
    "\n",
    "display(Ga(-3, All, All))  #Mostramos a Matriz de \\Gamma^theta_{i, \\nu},  con i, j = t, r, theta, phi\n",
    "\n",
    "print('Matriz para a conexión co primeiro coeficiente phi')\n",
    "\n",
    "display(Ga(-4, All, All))  #Mostramos a Matriz de \\Gamma^phi_{i, \\nu},    con i, j = t, r, theta, phi\n",
    "\n",
    "\n",
    "print('Aquí se mostran os coeficientes non nulos')\n",
    "\n",
    "for i, j, k in list(variations(range(1, 5), 3, True)):    #Mostramos solo as conexións non nulas\n",
    "    if Ga(-i, j, k) != 0 and j <= k:\n",
    "        if j <k:\n",
    "            display(Math('\\Gamma^{'+str(x(-i))+'}_{'+str(x(-j)) + str(x(-k))+'} = \\Gamma^{'+str(x(-i))+'}_{'+str(x(-k)) + str(x(-j))+'} = '+latex(Ga(-i, j, k))))\n",
    "        else:\n",
    "            display(Math('\\Gamma^{'+str(x(-i))+'}_{'+str(x(-j)) + str(x(-k))+'} = '+latex(Ga(-i, j, k))))\n"
   ]
  },
  {
   "cell_type": "markdown",
   "metadata": {},
   "source": [
    "### Riemann "
   ]
  },
  {
   "cell_type": "code",
   "execution_count": 177,
   "metadata": {},
   "outputs": [
    {
     "data": {
      "text/latex": [
       "$$R_{trtr} = \\frac{\\frac{d^{2}}{d r^{2}} B{\\left(r \\right)}}{2} - \\frac{\\left(\\frac{d}{d r} B{\\left(r \\right)}\\right)^{2}}{4 B{\\left(r \\right)}} - \\frac{\\frac{d}{d r} A{\\left(r \\right)} \\frac{d}{d r} B{\\left(r \\right)}}{4 A{\\left(r \\right)}}$$"
      ],
      "text/plain": [
       "<IPython.core.display.Math object>"
      ]
     },
     "metadata": {},
     "output_type": "display_data"
    },
    {
     "data": {
      "text/latex": [
       "$$R_{t\\thetat\\theta} = \\frac{r \\frac{d}{d r} B{\\left(r \\right)}}{2 A{\\left(r \\right)}}$$"
      ],
      "text/plain": [
       "<IPython.core.display.Math object>"
      ]
     },
     "metadata": {},
     "output_type": "display_data"
    },
    {
     "data": {
      "text/latex": [
       "$$R_{t\\phit\\phi} = \\frac{r \\sin^{2}{\\left(\\theta \\right)} \\frac{d}{d r} B{\\left(r \\right)}}{2 A{\\left(r \\right)}}$$"
      ],
      "text/plain": [
       "<IPython.core.display.Math object>"
      ]
     },
     "metadata": {},
     "output_type": "display_data"
    },
    {
     "data": {
      "text/latex": [
       "$$R_{r\\thetar\\theta} = \\frac{r \\frac{d}{d r} A{\\left(r \\right)}}{2 A{\\left(r \\right)}}$$"
      ],
      "text/plain": [
       "<IPython.core.display.Math object>"
      ]
     },
     "metadata": {},
     "output_type": "display_data"
    },
    {
     "data": {
      "text/latex": [
       "$$R_{r\\phir\\phi} = \\frac{r \\sin^{2}{\\left(\\theta \\right)} \\frac{d}{d r} A{\\left(r \\right)}}{2 A{\\left(r \\right)}}$$"
      ],
      "text/plain": [
       "<IPython.core.display.Math object>"
      ]
     },
     "metadata": {},
     "output_type": "display_data"
    },
    {
     "data": {
      "text/latex": [
       "$$R_{\\theta\\phi\\theta\\phi} = \\frac{r^{2} \\left(A{\\left(r \\right)} - 1\\right) \\sin^{2}{\\left(\\theta \\right)}}{A{\\left(r \\right)}}$$"
      ],
      "text/plain": [
       "<IPython.core.display.Math object>"
      ]
     },
     "metadata": {},
     "output_type": "display_data"
    }
   ],
   "source": [
    "Rm = Riemann('Rm', g)\n",
    "\n",
    " #Aquí móstranse solo as compoñentes non nulas do tensor con todos os índices covariantes\n",
    "for i, j, k, l in list(variations(range(1, 5), 4, True)):  \n",
    "    if Rm(i, j, k, l) != 0 and k<l and i<j:\n",
    "        display(Math('R_{'+str(x(-i))+str(x(-j))+str(x(-k))+str(x(-l))+'} = '+latex(Rm(i, j, k, l))))\n"
   ]
  },
  {
   "cell_type": "markdown",
   "metadata": {},
   "source": [
    "### Ricci"
   ]
  },
  {
   "cell_type": "code",
   "execution_count": 178,
   "metadata": {},
   "outputs": [
    {
     "data": {
      "image/png": "[encoded data removed]",
      "text/latex": [
       "$\\displaystyle \\left[\\begin{matrix}\\frac{\\frac{d^{2}}{d r^{2}} B{\\left(r \\right)}}{2 A{\\left(r \\right)}} - \\frac{\\left(\\frac{d}{d r} B{\\left(r \\right)}\\right)^{2}}{4 A{\\left(r \\right)} B{\\left(r \\right)}} - \\frac{\\frac{d}{d r} A{\\left(r \\right)} \\frac{d}{d r} B{\\left(r \\right)}}{4 A^{2}{\\left(r \\right)}} + \\frac{\\frac{d}{d r} B{\\left(r \\right)}}{r A{\\left(r \\right)}} & 0 & 0 & 0\\\\0 & - \\frac{\\frac{d^{2}}{d r^{2}} B{\\left(r \\right)}}{2 B{\\left(r \\right)}} + \\frac{\\left(\\frac{d}{d r} B{\\left(r \\right)}\\right)^{2}}{4 B^{2}{\\left(r \\right)}} + \\frac{\\frac{d}{d r} A{\\left(r \\right)} \\frac{d}{d r} B{\\left(r \\right)}}{4 A{\\left(r \\right)} B{\\left(r \\right)}} + \\frac{\\frac{d}{d r} A{\\left(r \\right)}}{r A{\\left(r \\right)}} & 0 & 0\\\\0 & 0 & - \\frac{r \\frac{d}{d r} B{\\left(r \\right)}}{2 A{\\left(r \\right)} B{\\left(r \\right)}} + \\frac{r \\frac{d}{d r} A{\\left(r \\right)}}{2 A^{2}{\\left(r \\right)}} + 1 - \\frac{1}{A{\\left(r \\right)}} & 0\\\\0 & 0 & 0 & \\frac{\\left(- \\frac{r A{\\left(r \\right)} \\frac{d}{d r} B{\\left(r \\right)}}{2} + \\frac{r B{\\left(r \\right)} \\frac{d}{d r} A{\\left(r \\right)}}{2} + A^{2}{\\left(r \\right)} B{\\left(r \\right)} - A{\\left(r \\right)} B{\\left(r \\right)}\\right) \\sin^{2}{\\left(\\theta \\right)}}{A^{2}{\\left(r \\right)} B{\\left(r \\right)}}\\end{matrix}\\right]$"
      ],
      "text/plain": [
       "⎡  2                                                                          \n",
       "⎢ d                    2                                                      \n",
       "⎢───(B(r))   ⎛d       ⎞    d        d          d                              \n",
       "⎢  2         ⎜──(B(r))⎟    ──(A(r))⋅──(B(r))   ──(B(r))                       \n",
       "⎢dr          ⎝dr      ⎠    dr       dr         dr                             \n",
       "⎢───────── - ─────────── - ───────────────── + ────────                       \n",
       "⎢  2⋅A(r)    4⋅A(r)⋅B(r)           2            r⋅A(r)                        \n",
       "⎢                               4⋅A (r)                                       \n",
       "⎢                                                                             \n",
       "⎢                                                            2                \n",
       "⎢                                                           d                 \n",
       "⎢                                                          ───(B(r))   ⎛d     \n",
       "⎢                                                            2         ⎜──(B(r\n",
       "⎢                                                          dr          ⎝dr    \n",
       "⎢                          0                             - ───────── + ───────\n",
       "⎢                                                            2⋅B(r)         2 \n",
       "⎢                                                                        4⋅B (\n",
       "⎢                                                                             \n",
       "⎢                                                                             \n",
       "⎢                                                                             \n",
       "⎢                                                                             \n",
       "⎢                          0                                                  \n",
       "⎢                                                                             \n",
       "⎢                                                                             \n",
       "⎢                                                                             \n",
       "⎢                                                                             \n",
       "⎢                                                                             \n",
       "⎢                                                                             \n",
       "⎢                                                                             \n",
       "⎢                                                                             \n",
       "⎢                          0                                                  \n",
       "⎢                                                                             \n",
       "⎣                                                                             \n",
       "\n",
       "                                                                              \n",
       "                                                                              \n",
       "                                                                              \n",
       "                                                                              \n",
       "                                                                              \n",
       "      0                                                0                      \n",
       "                                                                              \n",
       "                                                                              \n",
       "                                                                              \n",
       "                                                                              \n",
       "   2                                                                          \n",
       "  ⎞    d        d          d                                                  \n",
       "))⎟    ──(A(r))⋅──(B(r))   ──(A(r))                                           \n",
       "  ⎠    dr       dr         dr                                                 \n",
       "──── + ───────────────── + ────────                    0                      \n",
       "          4⋅A(r)⋅B(r)       r⋅A(r)                                            \n",
       "r)                                                                            \n",
       "                                                                              \n",
       "                                          d            d                      \n",
       "                                        r⋅──(B(r))   r⋅──(A(r))               \n",
       "                                          dr           dr              1      \n",
       "      0                              - ─────────── + ────────── + 1 - ────    \n",
       "                                       2⋅A(r)⋅B(r)       2            A(r)    \n",
       "                                                      2⋅A (r)                 \n",
       "                                                                              \n",
       "                                                                            ⎛ \n",
       "                                                                            ⎜ \n",
       "                                                                            ⎜ \n",
       "                                                                            ⎜-\n",
       "                                                                            ⎝ \n",
       "      0                                                0                    ──\n",
       "                                                                              \n",
       "                                                                              \n",
       "\n",
       "                                                                         ⎤\n",
       "                                                                         ⎥\n",
       "                                                                         ⎥\n",
       "                                                                         ⎥\n",
       "                                                                         ⎥\n",
       "                                   0                                     ⎥\n",
       "                                                                         ⎥\n",
       "                                                                         ⎥\n",
       "                                                                         ⎥\n",
       "                                                                         ⎥\n",
       "                                                                         ⎥\n",
       "                                                                         ⎥\n",
       "                                                                         ⎥\n",
       "                                                                         ⎥\n",
       "                                   0                                     ⎥\n",
       "                                                                         ⎥\n",
       "                                                                         ⎥\n",
       "                                                                         ⎥\n",
       "                                                                         ⎥\n",
       "                                                                         ⎥\n",
       "                                                                         ⎥\n",
       "                                   0                                     ⎥\n",
       "                                                                         ⎥\n",
       "                                                                         ⎥\n",
       "                                                                         ⎥\n",
       "        d                 d                                ⎞             ⎥\n",
       " r⋅A(r)⋅──(B(r))   r⋅B(r)⋅──(A(r))                         ⎟             ⎥\n",
       "        dr                dr          2                    ⎟    2        ⎥\n",
       " ─────────────── + ─────────────── + A (r)⋅B(r) - A(r)⋅B(r)⎟⋅sin (\\theta)⎥\n",
       "        2                 2                                ⎠             ⎥\n",
       "─────────────────────────────────────────────────────────────────────────⎥\n",
       "                                2                                        ⎥\n",
       "                               A (r)⋅B(r)                                ⎦"
      ]
     },
     "metadata": {},
     "output_type": "display_data"
    },
    {
     "data": {
      "image/png": "[encoded data removed]",
      "text/latex": [
       "$\\displaystyle - \\frac{\\frac{d^{2}}{d r^{2}} B{\\left(r \\right)}}{A{\\left(r \\right)} B{\\left(r \\right)}} + \\frac{\\left(\\frac{d}{d r} B{\\left(r \\right)}\\right)^{2}}{2 A{\\left(r \\right)} B^{2}{\\left(r \\right)}} + \\frac{\\frac{d}{d r} A{\\left(r \\right)} \\frac{d}{d r} B{\\left(r \\right)}}{2 A^{2}{\\left(r \\right)} B{\\left(r \\right)}} - \\frac{2 \\frac{d}{d r} B{\\left(r \\right)}}{r A{\\left(r \\right)} B{\\left(r \\right)}} + \\frac{2 \\frac{d}{d r} A{\\left(r \\right)}}{r A^{2}{\\left(r \\right)}} + \\frac{2}{r^{2}} - \\frac{2}{r^{2} A{\\left(r \\right)}}$"
      ],
      "text/plain": [
       "    2                                                                         \n",
       "   d                    2                                                     \n",
       "  ───(B(r))   ⎛d       ⎞     d        d             d            d            \n",
       "    2         ⎜──(B(r))⎟     ──(A(r))⋅──(B(r))    2⋅──(B(r))   2⋅──(A(r))     \n",
       "  dr          ⎝dr      ⎠     dr       dr            dr           dr         2 \n",
       "- ───────── + ──────────── + ───────────────── - ─────────── + ────────── + ──\n",
       "  A(r)⋅B(r)           2            2             r⋅A(r)⋅B(r)       2         2\n",
       "              2⋅A(r)⋅B (r)      2⋅A (r)⋅B(r)                    r⋅A (r)     r \n",
       "\n",
       "          \n",
       "          \n",
       "          \n",
       "          \n",
       "      2   \n",
       " - ───────\n",
       "    2     \n",
       "   r ⋅A(r)"
      ]
     },
     "execution_count": 178,
     "metadata": {},
     "output_type": "execute_result"
    }
   ],
   "source": [
    "Ri = Ricci('Ri', g)   #Calculamos o tensor de Ricci\n",
    "\n",
    "\n",
    "display(Ri(All, All))\n",
    "\n",
    "Ri.scalar()   #Calculamos o escalar de curvatura"
   ]
  },
  {
   "cell_type": "code",
   "execution_count": null,
   "metadata": {},
   "outputs": [],
   "source": []
  }
 ],
 "metadata": {
  "kernelspec": {
   "display_name": "Python 3",
   "language": "python",
   "name": "python3"
  },
  "language_info": {
   "codemirror_mode": {
    "name": "ipython",
    "version": 3
   },
   "file_extension": ".py",
   "mimetype": "text/x-python",
   "name": "python",
   "nbconvert_exporter": "python",
   "pygments_lexer": "ipython3",
   "version": "3.6.7"
  }
 },
 "nbformat": 4,
 "nbformat_minor": 2
}

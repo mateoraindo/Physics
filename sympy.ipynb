{
 "cells": [
  {
   "cell_type": "markdown",
   "metadata": {},
   "source": [
    "# Calculo simbólico con sympy"
   ]
  },
  {
   "cell_type": "markdown",
   "metadata": {},
   "source": [
    "## Librarías"
   ]
  },
  {
   "cell_type": "markdown",
   "metadata": {},
   "source": [
    "\n",
    "Primeiro, deberemos importar as librarías necesarias:"
   ]
  },
  {
   "cell_type": "code",
   "execution_count": 27,
   "metadata": {},
   "outputs": [],
   "source": [
    "from sympy import * #Libraría de Sympy, para cálculo simbólico\n",
    "init_printing(use_unicode=True)   #Fai que se vexan bonicas os resultados"
   ]
  },
  {
   "cell_type": "markdown",
   "metadata": {},
   "source": [
    "## Definir simbolos, expresións, e mostrar resultados"
   ]
  },
  {
   "cell_type": "markdown",
   "metadata": {},
   "source": [
    "A continuación podemos ver como definir simbolos, cos cales podemos realizar as operacións como se fosen as nosas variables no folio:"
   ]
  },
  {
   "cell_type": "code",
   "execution_count": 28,
   "metadata": {},
   "outputs": [],
   "source": [
    "x = Symbol('x')\n",
    "\n",
    "y, z = symbols('y z')\n"
   ]
  },
  {
   "cell_type": "markdown",
   "metadata": {},
   "source": [
    "Podemos definir e mostrar expresións como segue: "
   ]
  },
  {
   "cell_type": "code",
   "execution_count": 29,
   "metadata": {
    "scrolled": false
   },
   "outputs": [
    {
     "data": {
      "image/png": "[encoded data removed]",
      "text/latex": [
       "$$x^{2} - 2 y + z$$"
      ],
      "text/plain": [
       " 2          \n",
       "x  - 2⋅y + z"
      ]
     },
     "metadata": {},
     "output_type": "display_data"
    }
   ],
   "source": [
    "expresion = x**2 - 2*y + z\n",
    "\n",
    "\n",
    "display(expresion)\n"
   ]
  },
  {
   "cell_type": "markdown",
   "metadata": {},
   "source": [
    "## Operacións simbólicas básicas"
   ]
  },
  {
   "cell_type": "markdown",
   "metadata": {},
   "source": [
    "Podemos facer cálculos sinxelos coa nosa $expresion$ fácilmente como segue:"
   ]
  },
  {
   "cell_type": "code",
   "execution_count": 30,
   "metadata": {},
   "outputs": [
    {
     "data": {
      "image/png": "[encoded data removed]",
      "text/latex": [
       "$$x^{2} - 2 y$$"
      ],
      "text/plain": [
       " 2      \n",
       "x  - 2⋅y"
      ]
     },
     "metadata": {},
     "output_type": "display_data"
    },
    {
     "data": {
      "image/png": "[encoded data removed]",
      "text/latex": [
       "$$- 2 y + z$$"
      ],
      "text/plain": [
       "-2⋅y + z"
      ]
     },
     "metadata": {},
     "output_type": "display_data"
    }
   ],
   "source": [
    "resultado1 = expresion - z \n",
    "\n",
    "resultado2 = expresion - x**2\n",
    "\n",
    "display(resultado1)\n",
    "\n",
    "display(resultado2)\n",
    "\n"
   ]
  },
  {
   "cell_type": "markdown",
   "metadata": {},
   "source": [
    "Veremos a continuación as operacións mais frecuentes para realizar con cálculo simbólico:\n"
   ]
  },
  {
   "cell_type": "code",
   "execution_count": 35,
   "metadata": {
    "scrolled": true
   },
   "outputs": [
    {
     "name": "stdout",
     "output_type": "stream",
     "text": [
      "Derivada:\n"
     ]
    },
    {
     "data": {
      "image/png": "[encoded data removed]",
      "text/latex": [
       "$$e^{x} \\sin{\\left (x \\right )} + e^{x} \\cos{\\left (x \\right )}$$"
      ],
      "text/plain": [
       " x           x       \n",
       "ℯ ⋅sin(x) + ℯ ⋅cos(x)"
      ]
     },
     "metadata": {},
     "output_type": "display_data"
    },
    {
     "name": "stdout",
     "output_type": "stream",
     "text": [
      "Integral:\n"
     ]
    },
    {
     "data": {
      "image/png": "[encoded data removed]",
      "text/latex": [
       "$$- \\cos{\\left (x \\right )}$$"
      ],
      "text/plain": [
       "-cos(x)"
      ]
     },
     "metadata": {},
     "output_type": "display_data"
    },
    {
     "name": "stdout",
     "output_type": "stream",
     "text": [
      "Integral definida:\n"
     ]
    },
    {
     "data": {
      "image/png": "[encoded data removed]",
      "text/latex": [
       "$$\\pi$$"
      ],
      "text/plain": [
       "π"
      ]
     },
     "metadata": {},
     "output_type": "display_data"
    },
    {
     "name": "stdout",
     "output_type": "stream",
     "text": [
      "Límites:\n"
     ]
    },
    {
     "data": {
      "image/png": "[encoded data removed]",
      "text/latex": [
       "$$1$$"
      ],
      "text/plain": [
       "1"
      ]
     },
     "metadata": {},
     "output_type": "display_data"
    },
    {
     "name": "stdout",
     "output_type": "stream",
     "text": [
      "Resolver ecuacións:\n"
     ]
    },
    {
     "data": {
      "image/png": "[encoded data removed]",
      "text/latex": [
       "$$\\left [ 0, \\quad - \\frac{z}{y}\\right ]$$"
      ],
      "text/plain": [
       "⎡   -z ⎤\n",
       "⎢0, ───⎥\n",
       "⎣    y ⎦"
      ]
     },
     "metadata": {},
     "output_type": "display_data"
    },
    {
     "name": "stdout",
     "output_type": "stream",
     "text": [
      "Resolver ecuacións diferenciais:\n"
     ]
    },
    {
     "data": {
      "image/png": "[encoded data removed]",
      "text/latex": [
       "$$- f{\\left (x \\right )} + \\frac{d^{2}}{d x^{2}}  f{\\left (x \\right )} = e^{x}$$"
      ],
      "text/plain": [
       "          2           \n",
       "         d           x\n",
       "-f(x) + ───(f(x)) = ℯ \n",
       "          2           \n",
       "        dx            "
      ]
     },
     "metadata": {},
     "output_type": "display_data"
    },
    {
     "data": {
      "image/png": "[encoded data removed]",
      "text/latex": [
       "$$f{\\left (x \\right )} = C_{2} e^{- x} + \\left(C_{1} + \\frac{x}{2}\\right) e^{x}$$"
      ],
      "text/plain": [
       "           -x   ⎛     x⎞  x\n",
       "f(x) = C₂⋅ℯ   + ⎜C₁ + ─⎟⋅ℯ \n",
       "                ⎝     2⎠   "
      ]
     },
     "metadata": {},
     "output_type": "display_data"
    },
    {
     "name": "stdout",
     "output_type": "stream",
     "text": [
      "Achar ou autovalores, o determinante, e diagonalizar unha matriz:\n"
     ]
    },
    {
     "data": {
      "image/png": "[encoded data removed]",
      "text/latex": [
       "$$\\left \\{ 1 + 2 \\sqrt{2} : 1, \\quad - 2 \\sqrt{2} + 1 : 1\\right \\}$$"
      ],
      "text/plain": [
       "{1 + 2⋅√2: 1, -2⋅√2 + 1: 1}"
      ]
     },
     "metadata": {},
     "output_type": "display_data"
    },
    {
     "data": {
      "image/png": "[encoded data removed]",
      "text/latex": [
       "$$-7$$"
      ],
      "text/plain": [
       "-7"
      ]
     },
     "metadata": {},
     "output_type": "display_data"
    },
    {
     "data": {
      "image/png": "[encoded data removed]",
      "text/latex": [
       "$$\\left[\\begin{matrix}1 + 2 \\sqrt{2} & 0\\\\0 & - 2 \\sqrt{2} + 1\\end{matrix}\\right]$$"
      ],
      "text/plain": [
       "⎡1 + 2⋅√2      0    ⎤\n",
       "⎢                   ⎥\n",
       "⎣   0      -2⋅√2 + 1⎦"
      ]
     },
     "metadata": {},
     "output_type": "display_data"
    }
   ],
   "source": [
    "\n",
    "print('Derivada:')\n",
    "\n",
    "display(diff(sin(x)*exp(x), x))  #Derivar\n",
    "\n",
    "\n",
    "print('Integral:')\n",
    "\n",
    "display(integrate(sin(x), x))    #Integrar\n",
    "\n",
    "\n",
    "print('Integral definida:')\n",
    "\n",
    "display(integrate(sin(x)/x, (x, -oo, oo)))  #Integrar con límites definidos\n",
    "\n",
    "\n",
    "print('Límites:')\n",
    "\n",
    "display(limit(sin(x)/x, x, 0))   #Facer límites de funcións\n",
    "\n",
    "print('Resolver ecuacións:')\n",
    "\n",
    "display(solve(y*x**2 + z*x, x))    #Resolver ecuacións alxebraicas\n",
    "\n",
    "print('Resolver ecuacións diferenciais:')\n",
    "\n",
    "f = Function('f')\n",
    "\n",
    "display(Eq(f(x).diff(x, x) - f(x), exp(x))) \n",
    "\n",
    "display(dsolve(Eq(f(x).diff(x, x) - f(x), exp(x)), f(x)))    #Resolver ecuacións diferenciais\n",
    "\n",
    "print('Achar ou autovalores, o determinante, e diagonalizar unha matriz:')\n",
    "\n",
    "M = Matrix([[1, 2], [4, 1]])\n",
    "\n",
    "display(M.eigenvals())   #Achar os autovalores dunha matriz\n",
    "\n",
    "display(M.det())    #Achar o determinante dunha matriz\n",
    "\n",
    "P, D = M.diagonalize()    #Diagonalizar unha matriz (devolve D, diagonal, e P, tal que M = PDP^{-1})\n",
    "\n",
    "display(D)"
   ]
  },
  {
   "cell_type": "code",
   "execution_count": null,
   "metadata": {},
   "outputs": [],
   "source": []
  }
 ],
 "metadata": {
  "kernelspec": {
   "display_name": "Python 3",
   "language": "python",
   "name": "python3"
  },
  "language_info": {
   "codemirror_mode": {
    "name": "ipython",
    "version": 3
   },
   "file_extension": ".py",
   "mimetype": "text/x-python",
   "name": "python",
   "nbconvert_exporter": "python",
   "pygments_lexer": "ipython3",
   "version": "3.6.7"
  }
 },
 "nbformat": 4,
 "nbformat_minor": 2
}
